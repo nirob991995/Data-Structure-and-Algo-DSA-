{
 "cells": [
  {
   "cell_type": "code",
   "execution_count": 26,
   "id": "9df9ae20",
   "metadata": {},
   "outputs": [],
   "source": [
    "class Node:\n",
    "    def __init__(self, value):\n",
    "        self.value=value\n",
    "        self.ptr=None\n",
    "        \n",
    "\n",
    "class LinkedList:   \n",
    "    \n",
    "    def __init__(self, data):    \n",
    "        self.head=Node(data)\n",
    "        \n",
    "        \n",
    "    def add(self, element):   # Root -> Virat -> Dhoni->Chahar\n",
    "        new_node=Node(element)\n",
    "        p=self.head\n",
    "        while p.ptr:\n",
    "            p=p.ptr\n",
    "        p.ptr=new_node\n",
    "        \n",
    "    \n",
    "    def delete(self, element):     # 3 cases -> Delete head element, last element, somewhere middle element\n",
    "        if self.is_empty():\n",
    "            return 'empty linkedlist'\n",
    "        \n",
    "        p=self.head\n",
    "        \n",
    "        if p.value==element:    # first element/ head\n",
    "            self.head=p.ptr\n",
    "            return\n",
    "        \n",
    "        else:                # remove middle or last element\n",
    "            while p and p.ptr:\n",
    "                q=p.ptr   # q is my next node\n",
    "                if q.value==element:\n",
    "                    p.ptr=q.ptr   # update node before q to point to node after q\n",
    "                    return\n",
    "                p=p.ptr\n",
    "            return 'no find'\n",
    "         \n",
    "    \n",
    "    def update(self, value, new_value ):\n",
    "        if self.is_empty():\n",
    "            return 'empty linkedlist'\n",
    "        \n",
    "        p=self.head\n",
    "        while p:\n",
    "            if p.value==value:\n",
    "                p.value=new_value\n",
    "                return \n",
    "            p=p.ptr\n",
    "        print(\"Value %s not present in LL :\" %(new_value))    \n",
    "    \n",
    "    def display(self):\n",
    "        if self.is_empty():\n",
    "            return 'empty linkedlist'\n",
    "        \n",
    "        p=self.head\n",
    "        while p:\n",
    "            print(p.value, end='-->')\n",
    "            p=p.ptr\n",
    "        return\n",
    "            \n",
    "    \n",
    "    def is_empty(self):\n",
    "        if self.head:\n",
    "            return False\n",
    "        return True\n",
    "    \n",
    "    \n",
    "    def head_value(self):\n",
    "        if self.is_empty():\n",
    "            return 'empty linkedlist'\n",
    "        return self.head.value      \n",
    "    \n",
    "    \n",
    "    def search(self, element):\n",
    "        if self.is_empty():\n",
    "            return 'empty linkedlist'\n",
    "        \n",
    "        p=self.head\n",
    "        while p:\n",
    "            if p.value==element:\n",
    "                return True\n",
    "            p=p.ptr\n",
    "        return False\n",
    "    \n",
    "    \n",
    "    def compare(self, other_LL):\n",
    "        p=self.head\n",
    "        q=other_LL.head\n",
    "        while p and q:\n",
    "            if p.value!=q.value:\n",
    "                return False\n",
    "            p=p.ptr\n",
    "            q=q.ptr\n",
    "        if p is None and q is None:\n",
    "            return True\n",
    "        return False\n",
    "                \n",
    "                \n",
    "  \n",
    "    def reverse(self):\n",
    "        pre=None\n",
    "        current=self.head\n",
    "        while current:\n",
    "            nxt = current.ptr\n",
    "            current.ptr=pre\n",
    "            pre=current\n",
    "            current=nxt\n",
    "        self.head=pre\n",
    "\n",
    "    "
   ]
  },
  {
   "cell_type": "code",
   "execution_count": 47,
   "id": "82be0f25",
   "metadata": {},
   "outputs": [],
   "source": [
    "l=LinkedList('Virat')\n",
    "l.add(\"Dhoni\")\n",
    "l.add(\"Rohit\")\n",
    "l.add('Deepak')"
   ]
  },
  {
   "cell_type": "code",
   "execution_count": 48,
   "id": "ef973092",
   "metadata": {},
   "outputs": [],
   "source": [
    "l1=LinkedList('Virat')\n",
    "\n",
    "l1.add(\"Dhoni\")\n",
    "l1.add(\"Rohit\")\n",
    "l1.add('Deepak')"
   ]
  },
  {
   "cell_type": "code",
   "execution_count": 49,
   "id": "c50e884e",
   "metadata": {},
   "outputs": [
    {
     "name": "stdout",
     "output_type": "stream",
     "text": [
      "Virat-->Dhoni-->Rohit-->Deepak-->"
     ]
    }
   ],
   "source": [
    "l.display()"
   ]
  },
  {
   "cell_type": "code",
   "execution_count": 50,
   "id": "767cd565",
   "metadata": {},
   "outputs": [
    {
     "name": "stdout",
     "output_type": "stream",
     "text": [
      "Virat-->Dhoni-->Rohit-->Deepak-->"
     ]
    }
   ],
   "source": [
    "l1.display()"
   ]
  },
  {
   "cell_type": "code",
   "execution_count": 52,
   "id": "797c7444",
   "metadata": {},
   "outputs": [],
   "source": [
    "l.reverse()"
   ]
  },
  {
   "cell_type": "code",
   "execution_count": 53,
   "id": "e8be1915",
   "metadata": {},
   "outputs": [
    {
     "name": "stdout",
     "output_type": "stream",
     "text": [
      "Deepak-->Rohit-->Dhoni-->Virat-->"
     ]
    }
   ],
   "source": [
    "l.display()"
   ]
  },
  {
   "cell_type": "code",
   "execution_count": 54,
   "id": "445aeaff",
   "metadata": {},
   "outputs": [
    {
     "data": {
      "text/plain": [
       "False"
      ]
     },
     "execution_count": 54,
     "metadata": {},
     "output_type": "execute_result"
    }
   ],
   "source": [
    "l.compare(l1)"
   ]
  },
  {
   "cell_type": "code",
   "execution_count": null,
   "id": "63909aa4",
   "metadata": {},
   "outputs": [],
   "source": []
  }
 ],
 "metadata": {
  "kernelspec": {
   "display_name": "Python 3 (ipykernel)",
   "language": "python",
   "name": "python3"
  },
  "language_info": {
   "codemirror_mode": {
    "name": "ipython",
    "version": 3
   },
   "file_extension": ".py",
   "mimetype": "text/x-python",
   "name": "python",
   "nbconvert_exporter": "python",
   "pygments_lexer": "ipython3",
   "version": "3.8.9"
  }
 },
 "nbformat": 4,
 "nbformat_minor": 5
}
